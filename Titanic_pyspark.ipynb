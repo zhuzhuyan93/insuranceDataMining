{
 "cells": [
  {
   "cell_type": "code",
   "execution_count": null,
   "metadata": {
    "application/vnd.databricks.v1+cell": {
     "inputWidgets": {},
     "nuid": "6837f2fb-2c3b-4d2e-9c9f-b2031c60101e",
     "showTitle": false,
     "title": ""
    }
   },
   "outputs": [],
   "source": [
    "from pyspark.sql import SparkSession\n",
    "\n",
    "spark = SparkSession.builder.appName(\"Titanic\").getOrCreate()"
   ]
  },
  {
   "cell_type": "code",
   "execution_count": null,
   "metadata": {
    "application/vnd.databricks.v1+cell": {
     "inputWidgets": {},
     "nuid": "e846f82d-498f-458c-826c-61545ffe59ab",
     "showTitle": false,
     "title": ""
    }
   },
   "outputs": [],
   "source": [
    "from itertools import chain\n",
    "from pyspark.sql import functions as F\n",
    "from IPython.core.interactiveshell import InteractiveShell\n",
    "from functools import reduce\n",
    "import pandas as pd\n",
    "\n",
    "InteractiveShell.ast_node_interactivity = \"all\""
   ]
  },
  {
   "cell_type": "code",
   "execution_count": null,
   "metadata": {
    "application/vnd.databricks.v1+cell": {
     "inputWidgets": {},
     "nuid": "5fee3864-88b7-4e37-81ff-08193ab1b2c3",
     "showTitle": false,
     "title": ""
    }
   },
   "outputs": [],
   "source": [
    "df1 = spark.read.csv(\n",
    "    \"/FileStore/tables/titanic_train.csv\", header=True, inferSchema=True\n",
    ").cache()"
   ]
  },
  {
   "cell_type": "code",
   "execution_count": null,
   "metadata": {
    "application/vnd.databricks.v1+cell": {
     "inputWidgets": {},
     "nuid": "870400e9-b0f3-41ae-80cd-a22676d5387e",
     "showTitle": false,
     "title": ""
    }
   },
   "outputs": [],
   "source": [
    "df1.select(\"Survived\", \"Pclass\", \"Age\", \"Fare\").summary().show()"
   ]
  },
  {
   "cell_type": "code",
   "execution_count": null,
   "metadata": {
    "application/vnd.databricks.v1+cell": {
     "inputWidgets": {},
     "nuid": "a9c573db-4ef1-4c47-a145-6882ec1c41c0",
     "showTitle": false,
     "title": ""
    }
   },
   "outputs": [],
   "source": [
    "(df1.count(), len(df1.columns))\n",
    "count_col = [\"Sex\", \"Pclass\", \"SibSp\", \"Parch\", \"Embarked\"]\n",
    "df_count = reduce(\n",
    "    lambda df1, df2: df1.join(df2, on=\"Survived\", how=\"left\"),\n",
    "    [\n",
    "        df1.groupBy(\"Survived\").count(),\n",
    "        df1.groupBy(\"Survived\").mean(\"Fare\", \"Age\"),\n",
    "    ]\n",
    "    + [df1.groupBy(\"Survived\").pivot(i).count() for i in count_col],\n",
    ").toPandas()"
   ]
  },
  {
   "cell_type": "code",
   "execution_count": null,
   "metadata": {
    "application/vnd.databricks.v1+cell": {
     "inputWidgets": {},
     "nuid": "cfd33fdf-cf2b-4307-945f-b3f3afde8309",
     "showTitle": false,
     "title": ""
    }
   },
   "outputs": [],
   "source": [
    "def count_null(df):\n",
    "    null_list = []\n",
    "    for col in df.columns:\n",
    "        null_list.append((col, df.filter(df[col].isNull()).count()))\n",
    "    null_df = pd.DataFrame(null_list, columns=[\"feature\", \"null_count\"])\n",
    "    return null_df\n",
    "\n",
    "\n",
    "count_null(df1)"
   ]
  },
  {
   "cell_type": "code",
   "execution_count": null,
   "metadata": {
    "application/vnd.databricks.v1+cell": {
     "inputWidgets": {},
     "nuid": "b9ef35ec-241d-4d39-a4ae-dbec5445164a",
     "showTitle": false,
     "title": ""
    }
   },
   "outputs": [],
   "source": [
    "df1.select(\"Fare\", \"Embarked\", \"Age\").summary(\"mean\", \"50%\", \"max\").show()"
   ]
  },
  {
   "cell_type": "code",
   "execution_count": null,
   "metadata": {
    "application/vnd.databricks.v1+cell": {
     "inputWidgets": {},
     "nuid": "3c0a3cc7-aed0-4575-a48c-b56cdedb6ff4",
     "showTitle": false,
     "title": ""
    }
   },
   "outputs": [],
   "source": [
    "df1 = df1.fillna({\"Fare\": 14.45, \"Embarked\": \"S\"})"
   ]
  },
  {
   "cell_type": "code",
   "execution_count": null,
   "metadata": {
    "application/vnd.databricks.v1+cell": {
     "inputWidgets": {},
     "nuid": "c2238591-9db5-4853-a44b-3a4366170672",
     "showTitle": false,
     "title": ""
    }
   },
   "outputs": [],
   "source": [
    "df1 = df1.withColumn(\"Title\", F.regexp_extract(df1[\"Name\"], \"([A-Za-z]+)\\.\", 1))\n",
    "df1.groupBy(\"Title\").agg(F.count(\"Age\"), F.mean(\"Age\")).sort(\"count(Age)\").show()"
   ]
  },
  {
   "cell_type": "code",
   "execution_count": null,
   "metadata": {
    "application/vnd.databricks.v1+cell": {
     "inputWidgets": {},
     "nuid": "3c0c3378-f660-426e-8ad6-b1d9ff28daa0",
     "showTitle": false,
     "title": ""
    }
   },
   "outputs": [],
   "source": [
    "title_dic = {'Mr': 'Mr', 'Miss': 'Miss', 'Mrs': 'Mrs', 'Master': 'Master',\n",
    "             'Mlle': 'Miss', 'Major': 'Mr', 'Col': 'Mr', 'Sir': 'Mr',\n",
    "             'Don': 'Mr', 'Mme': 'Miss', 'Jonkheer': 'Mr', 'Lady': 'Mrs',\n",
    "             'Capt': 'Mr', 'Countess': 'Mrs', 'Ms': 'Miss', 'Dona': 'Mrs',\n",
    "             'Dr': 'Mr', 'Rev': 'Mr'}\n",
    "mapping = F.create_map([F.lit(i) for i in chain(*title_dic.items())])\n",
    "df1 = df1.withColumn('Title', mapping[df1['Title']])"
   ]
  },
  {
   "cell_type": "code",
   "execution_count": null,
   "metadata": {
    "application/vnd.databricks.v1+cell": {
     "inputWidgets": {},
     "nuid": "e4957047-2799-4245-adf1-b7002ab04f75",
     "showTitle": false,
     "title": ""
    }
   },
   "outputs": [],
   "source": [
    "def age_fillna(df, title, age):\n",
    "    return df.withColumn(\n",
    "        \"Age\",\n",
    "        F.when((df[\"Age\"].isNull()) & (df[\"Title\"] == title), age).otherwise(df[\"Age\"]),\n",
    "    )"
   ]
  },
  {
   "cell_type": "code",
   "execution_count": null,
   "metadata": {
    "application/vnd.databricks.v1+cell": {
     "inputWidgets": {},
     "nuid": "366c8849-468f-4287-af85-afda6610509b",
     "showTitle": false,
     "title": ""
    }
   },
   "outputs": [],
   "source": [
    "age_fillna_dict = (\n",
    "    df1.groupBy(\"Title\")\n",
    "    .mean(\"Age\")\n",
    "    .toPandas()\n",
    "    .set_index(\"Title\")\n",
    "    .to_dict()\n",
    "    .get(\"avg(Age)\")\n",
    ")\n",
    "for i, j in age_fillna_dict.items():\n",
    "    df1 = age_fillna(df1, i, j)"
   ]
  },
  {
   "cell_type": "code",
   "execution_count": null,
   "metadata": {
    "application/vnd.databricks.v1+cell": {
     "inputWidgets": {},
     "nuid": "4431e8ed-860c-403a-a30e-be6f272d963d",
     "showTitle": false,
     "title": ""
    }
   },
   "outputs": [],
   "source": [
    "df1 = df1.withColumn(\"FamliySize\", df1[\"SibSp\"] + df1[\"Parch\"]).drop(\"Parch\", \"SibSp\")"
   ]
  },
  {
   "cell_type": "code",
   "execution_count": null,
   "metadata": {
    "application/vnd.databricks.v1+cell": {
     "inputWidgets": {},
     "nuid": "01a7e68c-4059-4598-b73a-48056b194d14",
     "showTitle": false,
     "title": ""
    }
   },
   "outputs": [],
   "source": [
    "df1 = df1.drop(\"PassengerID\", \"Cabin\", \"Name\", \"Ticket\", \"Title\")\n",
    "df1.show(5)"
   ]
  },
  {
   "cell_type": "code",
   "execution_count": null,
   "metadata": {
    "application/vnd.databricks.v1+cell": {
     "inputWidgets": {},
     "nuid": "19517bb2-00d9-42a5-bf1c-f46aa94696e9",
     "showTitle": false,
     "title": ""
    }
   },
   "outputs": [],
   "source": [
    "count_null(df1)"
   ]
  },
  {
   "cell_type": "markdown",
   "metadata": {
    "application/vnd.databricks.v1+cell": {
     "inputWidgets": {},
     "nuid": "206fe1e8-2b6c-4a94-aacf-c9b91d2b2f57",
     "showTitle": false,
     "title": ""
    }
   },
   "source": [
    "Model"
   ]
  },
  {
   "cell_type": "code",
   "execution_count": null,
   "metadata": {
    "application/vnd.databricks.v1+cell": {
     "inputWidgets": {},
     "nuid": "172cec6e-b222-4773-8316-4824427474de",
     "showTitle": false,
     "title": ""
    }
   },
   "outputs": [],
   "source": [
    "from pyspark.ml.feature import StringIndexer, VectorAssembler\n",
    "from pyspark.ml.classification import (\n",
    "    LogisticRegression,\n",
    "    RandomForestClassifier,\n",
    "    GBTClassifier,\n",
    ")\n",
    "from pyspark.ml.evaluation import (\n",
    "    MulticlassClassificationEvaluator,\n",
    "    BinaryClassificationEvaluator,\n",
    ")\n",
    "from pyspark.ml import Pipeline\n",
    "from pyspark.ml import tuning as tune"
   ]
  },
  {
   "cell_type": "code",
   "execution_count": null,
   "metadata": {
    "application/vnd.databricks.v1+cell": {
     "inputWidgets": {},
     "nuid": "16c90c4f-a5e0-4b56-9001-df6cdbff9321",
     "showTitle": false,
     "title": ""
    }
   },
   "outputs": [],
   "source": [
    "df1.show(5)"
   ]
  },
  {
   "cell_type": "code",
   "execution_count": null,
   "metadata": {
    "application/vnd.databricks.v1+cell": {
     "inputWidgets": {},
     "nuid": "dc9a3bcc-fec9-432e-823a-936ad7cc31ec",
     "showTitle": false,
     "title": ""
    }
   },
   "outputs": [],
   "source": [
    "strIndexCols = [\"Sex\", \"Embarked\"]\n",
    "stringIndex = StringIndexer(\n",
    "    inputCols=strIndexCols, outputCols=[i + \"_indexed\" for i in strIndexCols]\n",
    ")\n",
    "try:\n",
    "    stringIndex_model = stringIndex.fit(df1)\n",
    "except:\n",
    "    df1 = df1.drop(*[i for i in df1.columns if i.endswith(\"indexed\")])\n",
    "    stringIndex_model = stringIndex.fit(df1)"
   ]
  },
  {
   "cell_type": "code",
   "execution_count": null,
   "metadata": {
    "application/vnd.databricks.v1+cell": {
     "inputWidgets": {},
     "nuid": "af2f17bb-7a28-4083-8f9c-0b78a7235633",
     "showTitle": false,
     "title": ""
    }
   },
   "outputs": [],
   "source": [
    "df1 = stringIndex_model.transform(df1).drop(*strIndexCols)"
   ]
  },
  {
   "cell_type": "code",
   "execution_count": null,
   "metadata": {
    "application/vnd.databricks.v1+cell": {
     "inputWidgets": {},
     "nuid": "3b263875-fb09-4972-a2a3-71545f36ae68",
     "showTitle": false,
     "title": ""
    }
   },
   "outputs": [],
   "source": [
    "df1.show(5)"
   ]
  },
  {
   "cell_type": "code",
   "execution_count": null,
   "metadata": {
    "application/vnd.databricks.v1+cell": {
     "inputWidgets": {},
     "nuid": "b320e6c1-bd1f-463b-885a-4b8de88dc512",
     "showTitle": false,
     "title": ""
    }
   },
   "outputs": [],
   "source": [
    "vec_asm = VectorAssembler(\n",
    "    inputCols=[i for i in df1.columns if i != \"Survived\"], outputCol=\"features\"\n",
    ")\n",
    "df1_ = vec_asm.transform(df1).select(\"features\", \"Survived\")"
   ]
  },
  {
   "cell_type": "code",
   "execution_count": null,
   "metadata": {
    "application/vnd.databricks.v1+cell": {
     "inputWidgets": {},
     "nuid": "01ecdffe-de1e-4e31-ad31-1ce98ef80157",
     "showTitle": false,
     "title": ""
    }
   },
   "outputs": [],
   "source": [
    "df1_.show(5, truncate=False)"
   ]
  },
  {
   "cell_type": "code",
   "execution_count": null,
   "metadata": {
    "application/vnd.databricks.v1+cell": {
     "inputWidgets": {},
     "nuid": "d069e45a-daa4-4a7c-a229-df43aa0c7a25",
     "showTitle": false,
     "title": ""
    }
   },
   "outputs": [],
   "source": [
    "train, test = df1_.randomSplit([0.7, 0.3])"
   ]
  },
  {
   "cell_type": "code",
   "execution_count": null,
   "metadata": {
    "application/vnd.databricks.v1+cell": {
     "inputWidgets": {},
     "nuid": "b36b657e-565c-4957-b318-01257e51f725",
     "showTitle": false,
     "title": ""
    }
   },
   "outputs": [],
   "source": [
    "train.show(5, truncate=False)"
   ]
  },
  {
   "cell_type": "code",
   "execution_count": null,
   "metadata": {
    "application/vnd.databricks.v1+cell": {
     "inputWidgets": {},
     "nuid": "21ded424-e29a-44fe-9a56-fdce46f355b2",
     "showTitle": false,
     "title": ""
    }
   },
   "outputs": [],
   "source": [
    "evaluator = BinaryClassificationEvaluator(\n",
    "    labelCol=\"Survived\", metricName=\"areaUnderROC\"\n",
    ")"
   ]
  },
  {
   "cell_type": "code",
   "execution_count": null,
   "metadata": {
    "application/vnd.databricks.v1+cell": {
     "inputWidgets": {},
     "nuid": "ca0b3879-5994-47d9-95d6-eb91c4549679",
     "showTitle": false,
     "title": ""
    }
   },
   "outputs": [],
   "source": [
    "ridge = LogisticRegression(\n",
    "    labelCol=\"Survived\", maxIter=100, elasticNetParam=0, regParam=0.03  # ridge\n",
    ")\n",
    "model = ridge.fit(train)\n",
    "pred_test = model.transform(test)\n",
    "evaluator.evaluate(pred_test)"
   ]
  },
  {
   "cell_type": "code",
   "execution_count": null,
   "metadata": {
    "application/vnd.databricks.v1+cell": {
     "inputWidgets": {},
     "nuid": "23bac547-e4a2-45f8-88e1-7afacd4221e3",
     "showTitle": false,
     "title": ""
    }
   },
   "outputs": [],
   "source": [
    "lasso = LogisticRegression(\n",
    "    labelCol=\"Survived\", maxIter=100, elasticNetParam=1, regParam=0.0003  # lasso\n",
    ")\n",
    "model = lasso.fit(train)\n",
    "pred_test = model.transform(test)\n",
    "evaluator.evaluate(pred_test)"
   ]
  },
  {
   "cell_type": "code",
   "execution_count": null,
   "metadata": {
    "application/vnd.databricks.v1+cell": {
     "inputWidgets": {},
     "nuid": "8161a3e5-bdf2-4d65-a5aa-b68211cd0a2f",
     "showTitle": false,
     "title": ""
    }
   },
   "outputs": [],
   "source": [
    "rdf = RandomForestClassifier(labelCol=\"Survived\", numTrees=100, maxDepth=3)\n",
    "rdf_model = rdf.fit(train)\n",
    "pred = rdf_model.transform(test)\n",
    "evaluator.evaluate(pred)"
   ]
  },
  {
   "cell_type": "code",
   "execution_count": null,
   "metadata": {
    "application/vnd.databricks.v1+cell": {
     "inputWidgets": {},
     "nuid": "b29f3407-27eb-4a85-9df2-b7b817f6e742",
     "showTitle": false,
     "title": ""
    }
   },
   "outputs": [],
   "source": [
    "gbt = GBTClassifier(labelCol=\"Survived\", maxIter=75, maxDepth=3)\n",
    "gbt_model = gbt.fit(train)\n",
    "pred = gbt_model.transform(test)\n",
    "evaluator.evaluate(pred)"
   ]
  },
  {
   "cell_type": "markdown",
   "metadata": {
    "application/vnd.databricks.v1+cell": {
     "inputWidgets": {},
     "nuid": "ee362f42-e9d0-47a7-b8c8-e268c9cdd55d",
     "showTitle": false,
     "title": ""
    }
   },
   "source": [
    "预测"
   ]
  },
  {
   "cell_type": "code",
   "execution_count": null,
   "metadata": {
    "application/vnd.databricks.v1+cell": {
     "inputWidgets": {},
     "nuid": "4de237c2-1546-4765-95f8-6d1951640d57",
     "showTitle": false,
     "title": ""
    }
   },
   "outputs": [],
   "source": [
    "df2 = spark.read.csv(\n",
    "    \"/FileStore/tables/titanic_test.csv\", header=True, inferSchema=True\n",
    ").cache()"
   ]
  },
  {
   "cell_type": "code",
   "execution_count": null,
   "metadata": {
    "application/vnd.databricks.v1+cell": {
     "inputWidgets": {},
     "nuid": "65838a10-f882-4e9d-9135-525955d77756",
     "showTitle": false,
     "title": ""
    }
   },
   "outputs": [],
   "source": [
    "df2 = (\n",
    "    df2.fillna({\"Fare\": 14.45, \"Embarked\": \"S\"})\n",
    "    .withColumn(\"FamliySize\", df2[\"SibSp\"] + df2[\"Parch\"])\n",
    "    .drop(\"Parch\", \"SibSp\")\n",
    "    .withColumn(\"Title\", F.regexp_extract(df2[\"Name\"], \"([A-Za-z]+)\\.\", 1))\n",
    ")\n",
    "df2 = df2.withColumn(\"Title\", mapping[df2[\"Title\"]])\n",
    "for i, j in age_fillna_dict.items():\n",
    "    df2 = age_fillna(df2, i, j)\n",
    "df2 = df2.drop(\"Cabin\", \"Name\", \"Ticket\", \"Title\")"
   ]
  },
  {
   "cell_type": "code",
   "execution_count": null,
   "metadata": {
    "application/vnd.databricks.v1+cell": {
     "inputWidgets": {},
     "nuid": "782f937c-1c2f-421b-a2b2-e9b40f9c794a",
     "showTitle": false,
     "title": ""
    }
   },
   "outputs": [],
   "source": [
    "pipeline_rdf = Pipeline(stages=[stringIndex, vec_asm, rdf])"
   ]
  },
  {
   "cell_type": "code",
   "execution_count": null,
   "metadata": {
    "application/vnd.databricks.v1+cell": {
     "inputWidgets": {},
     "nuid": "6da7f0b3-3a2e-4f24-a364-e46514f730bf",
     "showTitle": false,
     "title": ""
    }
   },
   "outputs": [],
   "source": [
    "paramGrid = (\n",
    "    tune.ParamGridBuilder()\n",
    "    .addGrid(rdf.maxDepth, [3, 4, 5])\n",
    "    .addGrid(rdf.minInfoGain, [0.0, 0.01, 0.1])\n",
    "    .addGrid(rdf.numTrees, [1000])\n",
    "    .build()\n",
    ")\n",
    "cv_model = tune.CrossValidator(\n",
    "    estimator=pipeline_rdf,\n",
    "    estimatorParamMaps=paramGrid,\n",
    "    evaluator=evaluator,\n",
    "    numFolds=5,\n",
    ")"
   ]
  },
  {
   "cell_type": "code",
   "execution_count": null,
   "metadata": {
    "application/vnd.databricks.v1+cell": {
     "inputWidgets": {},
     "nuid": "bbfd452b-401b-4447-9749-587d5ab0cf6f",
     "showTitle": false,
     "title": ""
    }
   },
   "outputs": [],
   "source": [
    "df1 = spark.read.csv(\n",
    "    \"/FileStore/tables/titanic_train.csv\", header=True, inferSchema=True\n",
    ").cache()\n",
    "df1 = (\n",
    "    df1.fillna({\"Fare\": 14.45, \"Embarked\": \"S\"})\n",
    "    .withColumn(\"FamliySize\", df1[\"SibSp\"] + df1[\"Parch\"])\n",
    "    .drop(\"Parch\", \"SibSp\")\n",
    "    .withColumn(\"Title\", F.regexp_extract(df1[\"Name\"], \"([A-Za-z]+)\\.\", 1))\n",
    ")\n",
    "df1 = df1.withColumn(\"Title\", mapping[df1[\"Title\"]])\n",
    "for i, j in age_fillna_dict.items():\n",
    "    df1 = age_fillna(df1, i, j)\n",
    "df1 = df1.drop(\"Cabin\", \"Name\", \"Ticket\", \"Title\")"
   ]
  },
  {
   "cell_type": "code",
   "execution_count": null,
   "metadata": {
    "application/vnd.databricks.v1+cell": {
     "inputWidgets": {},
     "nuid": "91ce38c1-23ce-49c1-8bbd-7582cb18bf04",
     "showTitle": false,
     "title": ""
    }
   },
   "outputs": [],
   "source": [
    "model_best = cv_model.fit(df1)"
   ]
  },
  {
   "cell_type": "code",
   "execution_count": null,
   "metadata": {
    "application/vnd.databricks.v1+cell": {
     "inputWidgets": {},
     "nuid": "9e762c7a-ea3f-4304-b08b-5c922ae3b7d7",
     "showTitle": false,
     "title": ""
    }
   },
   "outputs": [],
   "source": [
    "pred_train = model_best.transform(df1)"
   ]
  },
  {
   "cell_type": "code",
   "execution_count": null,
   "metadata": {
    "application/vnd.databricks.v1+cell": {
     "inputWidgets": {},
     "nuid": "325621ba-6d64-4f20-b46c-d8b7cae53655",
     "showTitle": false,
     "title": ""
    }
   },
   "outputs": [],
   "source": [
    "evaluator.evaluate(pred_train)"
   ]
  },
  {
   "cell_type": "code",
   "execution_count": null,
   "metadata": {
    "application/vnd.databricks.v1+cell": {
     "inputWidgets": {},
     "nuid": "17444e3f-ee68-4fa4-8f90-d0d924b43179",
     "showTitle": false,
     "title": ""
    }
   },
   "outputs": [],
   "source": [
    "pred_test = model_best.transform(df2)"
   ]
  },
  {
   "cell_type": "code",
   "execution_count": null,
   "metadata": {
    "application/vnd.databricks.v1+cell": {
     "inputWidgets": {},
     "nuid": "2a591623-663f-44ec-ac07-e0d4ce5c22a8",
     "showTitle": false,
     "title": ""
    }
   },
   "outputs": [],
   "source": [
    "result = pred_test.select(\"PassengerId\", \"prediction\")"
   ]
  },
  {
   "cell_type": "code",
   "execution_count": null,
   "metadata": {
    "application/vnd.databricks.v1+cell": {
     "inputWidgets": {},
     "nuid": "d6ef3fe4-371d-4ffd-aea9-2259ef541cd8",
     "showTitle": false,
     "title": ""
    }
   },
   "outputs": [],
   "source": [
    "result = result.withColumn(\"Survived\", result[\"prediction\"].cast(\"integer\")).drop(\n",
    "    \"prediction\"\n",
    ")"
   ]
  },
  {
   "cell_type": "code",
   "execution_count": null,
   "metadata": {
    "application/vnd.databricks.v1+cell": {
     "inputWidgets": {},
     "nuid": "06f63404-fd3e-4a41-b5da-ab8616736a4f",
     "showTitle": false,
     "title": ""
    }
   },
   "outputs": [],
   "source": [
    "model_best.write().save(\"titanic_rdf.model\")"
   ]
  },
  {
   "cell_type": "code",
   "execution_count": null,
   "metadata": {
    "application/vnd.databricks.v1+cell": {
     "inputWidgets": {},
     "nuid": "96013603-0f83-4103-aa82-9d84855e1677",
     "showTitle": false,
     "title": ""
    }
   },
   "outputs": [],
   "source": [
    "result.toPandas().to_csv(\"submission.csv\")"
   ]
  },
  {
   "cell_type": "code",
   "execution_count": null,
   "metadata": {
    "application/vnd.databricks.v1+cell": {
     "inputWidgets": {},
     "nuid": "18283eab-717e-4cbd-b2ea-c00891eea1cd",
     "showTitle": false,
     "title": ""
    }
   },
   "outputs": [],
   "source": [
    "!pwd"
   ]
  },
  {
   "cell_type": "code",
   "execution_count": null,
   "metadata": {
    "application/vnd.databricks.v1+cell": {
     "inputWidgets": {},
     "nuid": "3426263a-beb9-486d-b0ea-a4d1a250ac19",
     "showTitle": false,
     "title": ""
    }
   },
   "outputs": [],
   "source": [
    "!pwd"
   ]
  },
  {
   "cell_type": "code",
   "execution_count": null,
   "metadata": {},
   "outputs": [],
   "source": []
  }
 ],
 "metadata": {
  "application/vnd.databricks.v1+notebook": {
   "dashboards": [],
   "language": "python",
   "notebookMetadata": {
    "pythonIndentUnit": 2
   },
   "notebookName": "Titanic",
   "notebookOrigID": 1259128689295060,
   "widgets": {}
  },
  "kernelspec": {
   "display_name": "Python 3",
   "language": "python",
   "name": "python3"
  },
  "language_info": {
   "codemirror_mode": {
    "name": "ipython",
    "version": 3
   },
   "file_extension": ".py",
   "mimetype": "text/x-python",
   "name": "python",
   "nbconvert_exporter": "python",
   "pygments_lexer": "ipython3",
   "version": "3.8.5"
  },
  "toc": {
   "base_numbering": 1,
   "nav_menu": {},
   "number_sections": true,
   "sideBar": true,
   "skip_h1_title": false,
   "title_cell": "Table of Contents",
   "title_sidebar": "Contents",
   "toc_cell": false,
   "toc_position": {},
   "toc_section_display": true,
   "toc_window_display": false
  }
 },
 "nbformat": 4,
 "nbformat_minor": 1
}
