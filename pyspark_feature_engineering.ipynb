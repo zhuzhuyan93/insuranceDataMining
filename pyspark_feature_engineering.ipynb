{
 "cells": [
  {
   "cell_type": "code",
   "execution_count": null,
   "metadata": {},
   "outputs": [],
   "source": [
    "import pandas as pd\n",
    "import numpy as np\n",
    "import datetime as dt\n",
    "import random as rd"
   ]
  },
  {
   "cell_type": "code",
   "execution_count": null,
   "metadata": {},
   "outputs": [],
   "source": [
    "def to_pd_sample(ps_pd, n_rows=5):\n",
    "    result = pd.DataFrame(ps_pd.take(n_rows), columns=ps_pd.columns)\n",
    "    return result"
   ]
  },
  {
   "cell_type": "code",
   "execution_count": null,
   "metadata": {},
   "outputs": [],
   "source": [
    "operator, product_name, model_type = (\"cmcc\", \"jdjk\", \"click\")\n",
    "model_name = operator + \"_\" + product_name + \"_\" + model_type\n",
    "operator_id = {\"ctcc\": 0, \"cmcc\": 1, \"cucc\": 2}.get(operator)\n",
    "product_name = \"('IYB_JDJKZX_BT')\"\n",
    "print(model_name, product_name)"
   ]
  },
  {
   "cell_type": "code",
   "execution_count": null,
   "metadata": {},
   "outputs": [],
   "source": [
    "hosts = ['b2ba448e0f22808033de34d3b6336907', 'ca1e10bce26e977b772e339da9317cc3', 'e55122f84e59de57ddf8608fecc15fc0', '9f319b72c1be31b56814c5e9b053a3df', '407c885326b998877f3283324b217d1c', 'f5d2daabb3dff8741ded3acb22c1906e', 'ba5c5d7258ebbf3eacdbab2407c66997', '845e403dadfce5d105e2f207221fadfc', 'c089d7e0141fc52627a95412597e5f14', '99d436864ed125398bea5110cb75dcbd', 'f00c441e2aa97cb5f1b982692cac8f21', 'efc32dc3b569dba3721e35b22db4da0b', '385020b6054806cc6054ac0ca9024293', '4aff7362804695d836d77774c556ba52', 'db74d6f4405f27c38a579e9ca63f9587', '9cfac3ef7ad58980d401b36223500dd9', '5da14c6dbf003b98522d9a98c96c2c93', '7abb08710b0db575fa8680ef9a3e96a3', '589c0a29e564fca5a416f2c3634c3f02', '04f9a7d0344559275e5173af2b161a95', '5ba13f315865448e5fa7853ab81d1e4c', 'eddfe667c913b782e05292384e332827', '3c4ba08998b7f00549ccc62bc0b67643', 'b862703f8f79deffd0a55061c75e538b', 'f3641d578bf047ecaeecc3e69d12fb18', '1efb1af307965c9bd13b7c1cd3fdb697', '7b27c41dbe2c41e7a1a2183fa20f6266', '039f7044176a1a01450a0934ec889985', 'e92bf1006b9e7a7c3f690381021758a4', '1b56e3823bd1aec995df047ff5dc7343', 'ef1b3890e82993953b14d2174c7f0e27', 'f8703b065ed7dc19530988bb5d9fc964', 'd9aadbe2fed9a239190633aa8a029f73', 'f55301eaf72fbed3264a676ba307e22a', 'bf5b25d47ac242bb6e447e7e70875470', '173acc9d13a4ef2ff8a9610a0d1cb0aa', '4f58a49cd63dfd66db044713d03dea55', '8a3d9690edfa5d0b351a5a26ee87ce05', '83d7503a79b30c6b4ca11ebec7d244a0', '5225b69cdbf164172f665e7d54116967', 'ef4be7fd3f8f1ce0c7c3f8b3d851c32f', '2e472faf75f1d7fd9edb7376dff7cd70', '7cde147b8fc348bac2517f7c033dac60', '07d8a49db96c7aa1e224e7fe0ce0e4dc', '863b1a5ff425913427172964f629c4b9', '272f0ed2938181dc7522f0c455d0dfa7', '362af667607ce6782c3689e08ee9de38', '17715792e9b9e0546cd1741c6bcba762', 'e9ea700d0061bb3ddc9140a93e6f2611', '059132d2009a703d6c46240ac1a5533e', 'a6b5c1992f719daacb7da1def709e823', 'a59715ea5f2464250795722a218623ed', '97a71fe7ce4e4800c64914c4b87ff8b1', '4bac1664353a99895669c215a251bec2', '6665cd2fb019bb486b58e5d7e6e86657', 'c7e82ab45f4153b9490f2caca0b04116', 'dcdc6912e33277c17556f77d3dbe5ba6', 'c661e9f5140e04b7d36301a787ea0729', 'ae6922f5819e69ee5a2f8f4b83361a7b', 'd89fff3f3e6bad0191fc07e7432ece1f', '8d352ff142c4bd18c038eb5613227cdd', '56f4d32d411913e84c8ec49eabf345cd', 'c0d2f65f64ae84d66724a9d498c9049c', 'a97efaea4db161d47291ab6bc78fa94f', '969f55994067dac0e56a0b2b12833e0c', '9d6c1f7e1fda3142341bfce985e5515a', '200bfb53aa956425d5695cba4513def1', 'f2ae18d5c49dbc0a84e732a3f9be3d27', 'd0f070f6dde5ad97bd68bdf055431272', '222f49b0dbecc600b54e9af69b13dfe1', '486e2602c449ffb7ef5ff64103fb36f2', '4b3a0c477b381362bb7f40b8cdbd2bd5', '55da6343e98df346ff36b91bbf4d04d0', '678045fe6986764a5d81e1e70127208b', '0118ba25a0929138218fe34287e192f3', '634665eec36912d5e7e9eb4e4bff2858', '48bd22bd35d02570ce266aaef71eb2ae', 'ac56e43969a585193bf09653924d9e28', '1d64a2f04e819ccefc8ed73c2635a6a7', '3104ffce693ea895f04a5b566277401c', '53f6149a26c6214625ccd764d5fac479', '7fdb056283d977abdf7460b85d2e4f46', '6b551ebc9b7a6971513f99daee929029', 'e0f13e55b7ae8c32099f8280a1d777f6', 'e66c8a7c906f8df8a428634f059ce3fe', '2b7daaf4f1956b756d0d55a5f3f597d7', 'f223dd76ce488c4ab31b77182cc3aa31', '2d7eec3721ce167aa274f9f207dfcb50', 'a1a52fb35ca362186fa4ce67aa291ef5', 'cf6bf14b684caee6300c5b92b752b1cd', '22adef2520c24fc81fd423e7ef7e5a2c', '56a3f26d1ed7a397a3c7d7950e7d7af9', 'c25cf85815166fa9dfa4d896de206ab9', '81b8a37c7f95a064632d6cf6d8beea9c', '56d270f3a0c3f8df7b4fe64cfa2b7c58', '296aef04a65896e9d69faec77e434dd7', '592a065a5e0cb6497fcc24a7291dd864', '0b9ce348487a6b0d1db6435e71e05e97', '2deea0e83d0ef57b9e9c23736f1f2ce6', '6705720a97f62e6cbd4bf27035d13140',\n",
    "         '28bd37c406025f3ef4053020ea0ab839', '69410aa88d97b8c9db8edef6d039eee4', '8b5b05eb6c2bd6222b3bfaa100ccb597', '8ddbaaced954a066887b1f7a88f79547', '709bdd326e06b9122845364c17a41e4e', 'bc49c2216532b0980251531497be8514', 'c31a46be701fc6cddca2d91fd1b95cc6', '68e29ee23090dfdb9f7f386d12adc352', '85ea3d52766c767a7b12d85d25fb0d7b', '9e2ccb965f747abdd72dd241374b7f39', '5f10842fe1e307a983278c7f02c0976d', '70ce62c38100df4c94e767d27557e91b', '7d88cf9687834d406ad7a60d393094ba', '82b1d433ebe4db9ab7e8a46bacd3fe36', '5f4492e681bb5232e80a3927b5b0e398', '3e991e48267a16cdba613bdd32eeaf7b', '11de1f831f03c8478c78c6fff530df13', '5e7712bc1b250b8e9cc5fa66406a985e', 'de9d642ef8253cbd9d369933cc332c09', '2df751a6f40f02e67e8d3fcab30e9f0a', 'c7f9661b351a5fe62300df27d6fc62ef', 'ae6db12fc124d2d2eaeee61f52eedba4', '04ece0de5e4dd6339856891f1d358aef', '5417dc0d5faa94e0f878401d9dadaf26', '0260a15cac39601ae9d4a5d9d60bb690', 'd35eb61b58976109b40a479f51beebae', '0572926145937e99afba0d135cf57901', '71295b5c498f7335f4c3adf4d058e3e2', '9d1c0960b44ef25451f5f81d6b593e57', '7e1aaf8a5ccf94a5952bfe542095c2d9', 'a0993d3e24279b917bed800975e58599', '88f86a6d1ef1f18165364646cefe470d', 'c72fba3aab29556180dbeb7007631112', '9b1becf4c930047ce121d7afcab5c868', '8e6492e0492f71184b56616efc39387d', 'c158732e3d1df2a9edd53e49f69bf651', '39109d713d2de87da59034a811f00d9e', '290ca6610210a4846f8a8c6bea8e7b5f', '4ab19ed4bd223e71c9f6742daa2dfecd', '45628c7e9431913302b726af33538b2c', '999995208f54b672b739d6d46a55822b', '17e83ae923f973d25cb736638bc6b6e1', '717c53d82732a2df41639ada2df5a470', 'ecc954f513760e532100050fec3eb585', '9888da6f6f55dbe1cd3cb3339f82a05c', '36da103153291f430eab25eaa9c322a8', 'de6b7a8f26e8c34084772061daa85d0a', '9264817eb2f812451acd498870ae8556', 'de3105d843f89da1bde3b640bc6b7be7', '3481db2848d71e3b00034c2944379523', 'ffe87d464c29a60b2bc57e32cbeeb176', 'a6975853aadd7258a011a1fd8ef15e08', 'e9a062681858a3fd5f80354d781776a2', 'e8193c4cb98aa8117d0fbbe54a7705f0', '5b59e989e973a02dc7c8fb4885d8ceea', '4af89ae37fb3174a8054b79e3d70bf65', 'c0aa1e51f7d852da400cc60cb309a7a3', 'b4f3de962fed98a7111e4f2541250a98', '31d31ee96a93f4f16e8c11867866a793', '79a40f2debcb37e34cc08d9b8fc61b63', '3a8ef9aa71db790afe64a907cefa18e2', '3c2aec416f70bc0237c81332bfee4542', 'fa9056249b093420157cc4c284076020', '1e843307b5845ead4d8342557aa292ff', 'abb1c49f88e6c4c05dee02b4cb570f5c', 'fa578405bfa6c2d8538982ec43b35c88', 'f6b86fff825f5dc567c5157248d8c696', '69567b51baa6e0b3d5df78185ff0ad9a', '8ac59dcb94cc21cba3e7fd821a3c4ffc', '6e3cc4a3b620e7be59757a11092b35d1', 'd4ecbeb0816482d9854c903c88ff1df2', '200e5d4600f71bcb63fce0cd45db08e6', '23919e472ab99eb872c31f342d285069', 'c72aa847466fe3393503830a01a619d9', '04b8f6b46ce0ce8c97c28709bbd90a30', '9aab28efcec8b625866c6793b88fa542', '15f3f52c2dd1b600942b120309e586cd', 'ac52b1f69fd0111d8bdc38dadeb355b7', '790cb87d5da2db403d7988cd31d0a41a', 'e723e2f66bff11a4e0c9408d16a16d5b', '0d8d4f9ddfdb5b73cceb2f2c08938618', 'cdc2cdb0d43ecda11dfbba07280da713', '44b12b22a6a6284054bf539cfe3c132d', '5bb84ac4d485c8c20592d8be0c89cde0', 'a27408b4cfbe6ccab2e1534a346c932e', '87ad6941c7a01f50d5e55ac782cf1223', 'ae42c7b9f687e667dbe714aea1789d72', 'fe7371e8d210d58986a0eaa596ef3f70', '1d1220087edf25702ea85e8813c0db83', '9510ae5949c2cbf9c3702ce9c5a70105', '7006f75aa849876122d7a4549fae31de', 'e845c3af825e41593bf41e6be0b8d46f', 'e4a9a127c8925bdccbd91d313d2ef51c', '0b3c17289c27609ff7ddb271d1094085', '98a23e79a564748b6533ff232742bd08', '4e1a45c266d02d66ba0da8bca76ad7c4', '3a8e982e7de00aee32f9fc65563ebfb8', '55e350508049794ae8dada2d1709259f', 'bfc01f35de99c0b05f5d8d43141acf96', '569254a73d66491906a04a0e95eccf5e', ]\n",
    "df_hosts = pd.DataFrame(hosts, columns=['hosts'])"
   ]
  },
  {
   "cell_type": "code",
   "execution_count": null,
   "metadata": {
    "scrolled": false
   },
   "outputs": [],
   "source": [
    "df_products_click = spark.sql(\n",
    "    f\"\"\"\n",
    "SELECT product products_click\n",
    "FROM etl_swap.rp_biz_access_log\n",
    "WHERE dt >= date_format(date_sub(current_date(), 90), 'yyyy-MM-dd')\n",
    "    AND operator = {operator_id}\n",
    "GROUP BY product\n",
    "HAVING count(distinct rysecret) >= 50000\n",
    "\"\"\"\n",
    ").toPandas()"
   ]
  },
  {
   "cell_type": "code",
   "execution_count": null,
   "metadata": {},
   "outputs": [],
   "source": [
    "df_products_send = spark.sql(\n",
    "    f\"\"\"\n",
    "SELECT product products_send\n",
    "FROM (SELECT rysecret, product\n",
    "      FROM bt_insurance2.rp_sms_{operator}\n",
    "      WHERE dt >= date_format(date_sub(current_date(), 180), 'yyyy-MM-dd')\n",
    "      UNION ALL\n",
    "      SELECT rysecret, product\n",
    "      FROM jzq_insurance.rp_sms_{operator}\n",
    "      WHERE dt >= date_format(date_sub(current_date(), 180), 'yyyy-MM-dd')\n",
    "      UNION ALL\n",
    "      SELECT rysecret, product\n",
    "      FROM hlzx_outbound.rp_outbound_result_{operator}\n",
    "      WHERE dt >= date_format(date_sub(current_date(), 180), 'yyyy-MM-dd')\n",
    "          ) all_sent\n",
    "WHERE product != 'null'\n",
    "GROUP BY product\n",
    "HAVING count(distinct rysecret) >= 100000\n",
    "\"\"\"\n",
    ").toPandas()"
   ]
  },
  {
   "cell_type": "code",
   "execution_count": null,
   "metadata": {},
   "outputs": [],
   "source": [
    "city_codes = ['110000', '120000', '130100', '130200', '130300', '130400', '130500', '130600', '130700', '130800', '130900', '131000', '131100', '140100', '140200', '140300', '140400', '140500', '140600', '140700', '140800', '140900', '141000', '141100', '150100', '150200', '150300', '150400', '150500', '150600', '150700', '150800', '150900', '152200', '152500', '152900', '210100', '210200', '210300', '210400', '210500', '210600', '210700', '210800', '210900', '211000', '211100', '211200', '211300', '211400', '220100', '220200', '220300', '220400', '220500', '220600', '220700', '220800', '222400', '230100', '230200', '230300', '230400', '230500', '230600', '230700', '230800', '230900', '231000', '231100', '231200', '232700', '310000', '320100', '320200', '320300', '320400', '320500', '320600', '320700', '320800', '320900', '321000', '321100', '321200', '321300', '330100', '330200', '330300', '330400', '330500', '330600', '330700', '330800', '330900', '331000', '331100', '340100', '340200', '340300', '340400', '340500', '340600', '340700', '340800', '341000', '341100', '341200', '341300', '341500', '341600', '341700', '341800', '350100', '350200', '350300', '350400', '350500', '350600', '350700', '350800', '350900', '360100', '360200', '360300', '360400', '360500', '360600', '360700', '360800', '360900', '361000', '361100', '370100', '370200', '370300', '370400', '370500', '370600', '370700', '370800', '370900', '371000', '371100', '371200', '371300', '371400', '371500', '371600', '371700', '410100', '410200', '410300', '410400', '410500', '410600', '410700', '410800', '410900', '411000', '411100', '411200', '411300', '411400', '411500', '411600', '411700', '419001', '420100',\n",
    "              '420200', '420300', '420500', '420600', '420700', '420800', '420900', '421000', '421100', '421200', '421300', '422800', '429004', '430100', '430200', '430300', '430400', '430500', '430600', '430700', '430800', '430900', '431000', '431100', '431200', '431300', '433100', '440100', '440200', '440300', '440400', '440500', '440600', '440700', '440800', '440900', '441200', '441300', '441400', '441500', '441600', '441700', '441800', '441900', '442000', '445100', '445200', '445300', '450100', '450200', '450300', '450400', '450500', '450600', '450700', '450800', '450900', '451000', '451100', '451200', '451300', '451400', '460100', '500000', '510100', '510300', '510400', '510500', '510600', '510700', '510800', '510900', '511000', '511100', '511300', '511400', '511500', '511600', '511700', '511800', '511900', '512000', '513200', '513300', '513400', '520100', '520200', '520300', '520400', '522200', '522300', '522400', '522600', '522700', '530100', '530300', '530400', '530500', '530600', '530700', '530800', '530900', '532300', '532500', '532600', '532800', '532900', '533100', '533300', '533400', '540100', '542100', '542200', '542300', '542400', '542500', '542600', '610100', '610200', '610300', '610400', '610500', '610600', '610700', '610800', '610900', '611000', '620100', '620200', '620300', '620400', '620500', '620600', '620700', '620800', '620900', '621000', '621100', '621200', '622900', '623000', '630100', '632100', '632200', '632300', '632500', '632600', '632700', '632800', '640100', '640200', '640300', '640400', '640500', '650100', '650200', '652100', '652200', '652300', '652700', '652800', '652900', '653000', '653100', '653200', '654000', '654003', '654200', '654300', '659001', ]\n",
    "province_codes = ['11', '12', '13', '14', '15', '21', '22', '23', '31', '32', '33', '34', '35', '36',\n",
    "                  '37', '41', '42', '43', '44', '45', '46', '50', '51', '52', '53', '54', '61', '62', '63', '64', '65']\n",
    "ages = [0, 1, 2, 3, 4, 5, 6, 7, 8, 9]\n",
    "new_ages = ['null', '<=15', '16-18', '19-25', '26-30', '31-35',\n",
    "            '36-40', '41-45', '46-55', '>=56', '25-50', '>50', '<25']\n",
    "genders = [0, 1, 2]\n",
    "makers = ['HUAWEI', 'OPPO', 'VIVO', 'APPLE', 'XIAOMI',\n",
    "          'MEIZU', 'OnePlus', 'SONY', 'SAMSUNG', 'others']\n",
    "brands = ['APPLE', 'HUAWEI', 'OPPO', 'VIVO', 'XIAOMI', 'others']"
   ]
  },
  {
   "cell_type": "code",
   "execution_count": null,
   "metadata": {},
   "outputs": [],
   "source": [
    "basic_cols = ['city_codes', 'province_codes', 'ages',\n",
    "              'new_ages', 'genders', 'makers', 'brands']\n",
    "temp_ls = []\n",
    "for i in basic_cols:\n",
    "    temp_ls.append(pd.DataFrame(eval(i), columns=[i]))"
   ]
  },
  {
   "cell_type": "code",
   "execution_count": null,
   "metadata": {},
   "outputs": [],
   "source": [
    "df_message = (\n",
    "    pd.concat([df_hosts, df_products_click, df_products_send,] + temp_ls, axis=1)\n",
    "    .fillna(\"null_value\")\n",
    "    .astype(str)\n",
    ")"
   ]
  },
  {
   "cell_type": "code",
   "execution_count": null,
   "metadata": {},
   "outputs": [],
   "source": [
    "(\n",
    "    spark.createDataFrame(df_message)\n",
    "    .repartition(1)\n",
    "    .write.mode(\"overwrite\")\n",
    "    .format(\"com.databricks.spark.csv\")\n",
    "    .option(\"header\", \"true\")\n",
    "    .parquet(f\"/user/zhuyan/model/{model_name}/model_basic_message\")\n",
    ")"
   ]
  },
  {
   "cell_type": "markdown",
   "metadata": {},
   "source": [
    "### DPI data"
   ]
  },
  {
   "cell_type": "code",
   "execution_count": null,
   "metadata": {},
   "outputs": [],
   "source": [
    "import pandas as pd\n",
    "import numpy as np\n",
    "import datetime as dt\n",
    "import random as rd\n",
    "from functools import reduce\n",
    "\n",
    "from pyspark import SparkConf, SparkContext\n",
    "from pyspark.sql import SparkSession\n",
    "from pyspark.sql import functions as F\n",
    "from pyspark.ml.feature import (\n",
    "    StringIndexer,\n",
    "    OneHotEncoder,\n",
    "    OneHotEncoderEstimator,\n",
    "    VectorAssembler,\n",
    ")\n",
    "from pyspark.ml import Pipeline, PipelineModel\n",
    "from pyspark.ml.classification import GBTClassifier, GBTClassificationModel\n",
    "\n",
    "from pyspark.ml import evaluation as evals\n",
    "from pyspark.ml import tuning as tune"
   ]
  },
  {
   "cell_type": "code",
   "execution_count": null,
   "metadata": {},
   "outputs": [],
   "source": [
    "operator, product_name, model_type = (\"cmcc\", \"jdjk\", \"click\")\n",
    "model_name = operator + \"_\" + product_name + \"_\" + model_type\n",
    "operator_id = {\"ctcc\": 0, \"cmcc\": 1, \"cucc\": 2}.get(operator)\n",
    "product_name = \"('IYB_JDJKZX_BT')\"\n",
    "print(model_name, product_name)"
   ]
  },
  {
   "cell_type": "code",
   "execution_count": null,
   "metadata": {},
   "outputs": [],
   "source": [
    "spark.stop()\n",
    "spark = (\n",
    "    SparkSession.builder.appName(\"zhy_model_{}\".format(model_name))\n",
    "    .config(\"spark.dynamicAllocation.maxExecutors\", \"100\")\n",
    "    .config(\"spark.executor.memoryOverhead\", \"10G\")\n",
    "    .config(\"spark.yarn.executor.memoryOverhead\", \"8G\")\n",
    "    .config(\"spark.driver.allowMultipleContexts\", \"true\")\n",
    "    .getOrCreate()\n",
    ")\n",
    "\n",
    "pd.set_option(\"display.max_rows\", 1000)\n",
    "pd.set_option(\"display.max_columns\", None)"
   ]
  },
  {
   "cell_type": "code",
   "execution_count": null,
   "metadata": {},
   "outputs": [],
   "source": [
    "def to_pd_sample(ps_pd, n_rows=5):\n",
    "    result = pd.DataFrame(ps_pd.take(n_rows), columns=ps_pd.columns)\n",
    "    return result"
   ]
  },
  {
   "cell_type": "code",
   "execution_count": null,
   "metadata": {},
   "outputs": [],
   "source": [
    "model_basic_message = spark.read.parquet(\n",
    "    f\"/user/zhuyan/model/{model_name}/model_basic_message\"\n",
    ")\n",
    "df_message = model_basic_message.toPandas()\n",
    "to_pd_sample(model_basic_message)"
   ]
  },
  {
   "cell_type": "code",
   "execution_count": null,
   "metadata": {},
   "outputs": [],
   "source": [
    "df_message.columns = [i[:-1] if i.endswith(\"s\") else i for i in df_message.columns]"
   ]
  },
  {
   "cell_type": "code",
   "execution_count": null,
   "metadata": {},
   "outputs": [],
   "source": [
    "dpi_symbol = \"8_dpi_result\" if operator == \"cmcc\" else \"9_dpi_result\"\n",
    "\n",
    "n_visited, n_sent, n_sent_bt, n_host = (\n",
    "    f\"e_n_visited_{dpi_symbol}_modelling\",\n",
    "    f\"e_n_sent_{operator}_modelling\",\n",
    "    f\"e_n_sent_bt_{operator}_modelling\",\n",
    "    f\"e_n_host_{dpi_symbol}_modelling\",\n",
    ")\n",
    "n_dpi_days = 15"
   ]
  },
  {
   "cell_type": "code",
   "execution_count": null,
   "metadata": {},
   "outputs": [],
   "source": [
    "label_data = spark.sql(\n",
    "    f\"\"\"\n",
    "SELECT \n",
    "\n",
    "    all.rysecret, all.sent_date, label, \n",
    "    n_ins_host_10, n_ins_host_20, n_ins_host_30, fre_ins_host_10, fre_ins_host_20, fre_ins_host_30,\n",
    "    n_loan_host_10, n_loan_host_20, n_loan_host_30, fre_loan_host_10, fre_loan_host_20, fre_loan_host_30,\n",
    "    n_credit_host_10, n_credit_host_20, n_credit_host_30, fre_credit_host_10, fre_credit_host_20, fre_credit_host_30,\n",
    "    n_other_host_10, n_other_host_20, n_other_host_30,  fre_other_host_10, fre_other_host_20, fre_other_host_30,\n",
    "    ins_host_rate_10, ins_host_rate_20, ins_host_rate_30, ins_fre_rate_10, ins_fre_rate_20, ins_fre_rate_30,\n",
    "    loan_host_rate_10, loan_host_rate_20, loan_host_rate_30, loan_fre_rate_10, loan_fre_rate_20, loan_fre_rate_30,\n",
    "    credit_host_rate_10, credit_host_rate_20, credit_host_rate_30, credit_fre_rate_10, credit_fre_rate_20, credit_fre_rate_30,\n",
    "    n_ins_host_avg_30, n_ins_host_sd_30, n_ins_host_cv_30,\n",
    "    n_loan_host_avg_30, n_loan_host_sd_30, n_loan_host_cv_30,\n",
    "    n_credit_host_avg_30, n_credit_host_sd_30, n_credit_host_cv_30,\n",
    "    n_other_host_avg_30, n_other_host_sd_30, n_other_host_cv_30,\n",
    "    ins_host_rate_avg_30, ins_host_rate_sd_30, ins_host_rate_cv_30,\n",
    "    loan_host_rate_avg_30, loan_host_rate_sd_30, loan_host_rate_cv_30,\n",
    "    credit_host_rate_avg_30, credit_host_rate_sd_30, credit_host_rate_cv_30,\n",
    "    fre_ins_host_avg_30, fre_ins_host_sd_30, fre_ins_host_cv_30,\n",
    "    fre_loan_host_avg_30, fre_loan_host_sd_30, fre_loan_host_cv_30,\n",
    "    fre_credit_host_avg_30, fre_credit_host_sd_30, fre_credit_host_cv_30,\n",
    "    fre_other_host_avg_30, fre_other_host_sd_30, fre_other_host_cv_30,\n",
    "    ins_fre_rate_avg_30, ins_fre_rate_sd_30, ins_fre_rate_cv_30,\n",
    "    loan_fre_rate_avg_30, loan_fre_rate_sd_30, loan_fre_rate_cv_30,\n",
    "    credit_fre_rate_avg_30, credit_fre_rate_sd_30, credit_fre_rate_cv_30,\n",
    "    sent_30, sent_90, sent_180, days_since_sent_date,\n",
    "    click_30, click_90, click_180, days_since_click_date,\n",
    "    myl_rank, price, age, gender, maker, brand, new_age,\n",
    "    rank.city_code, province_code, city_level \n",
    "\n",
    "FROM (\n",
    "        SELECT rysecret, from_unixtime(submit_time, 'yyyyMMdd') sent_date\n",
    "        FROM (\n",
    "                SELECT rysecret, send_status, submit_time, product, dt \n",
    "                FROM bt_insurance2.rp_sms_{operator}\n",
    "                UNION ALL\n",
    "                SELECT rysecret, send_status, submit_time, product, dt \n",
    "                FROM jzq_insurance.rp_sms_{operator}\n",
    "              ) sent\n",
    "        WHERE send_status = 1 \n",
    "                AND product in {product_name}\n",
    "                AND dt >= date_add(current_date(), -{n_dpi_days}) \n",
    "                AND dt < date_add(current_date(), 0)  \n",
    "        GROUP BY rysecret, from_unixtime(submit_time, 'yyyyMMdd')\n",
    "    ) all\n",
    "LEFT JOIN (\n",
    "        SELECT rysecret, 1 label, date_format(dt, 'yyyyMMdd') click_date\n",
    "        FROM (\n",
    "            SELECT rysecret, ip, label, product, dt \n",
    "            FROM bt_insurance2.rp_access_log\n",
    "            UNION  \n",
    "            SELECT rysecret, ip, label, product, dt \n",
    "            FROM jzq_insurance.rp_access_log\n",
    "            ) click\n",
    "        LEFT JOIN (\n",
    "            SELECT ip \n",
    "            FROM etl_swap.rp_ip_exception_info\n",
    "            WHERE date >= date_add(current_date(), -{n_dpi_days})\n",
    "                AND date < date_add(current_date(), 0)\n",
    "            ) e on click.ip = e.ip\n",
    "        WHERE product in {product_name}\n",
    "                AND dt >= date_add(current_date(), -{n_dpi_days})\n",
    "                AND dt < date_add(current_date(), 0)\n",
    "                AND e.ip is null\n",
    "        GROUP BY rysecret, date_format(dt, 'yyyyMMdd')\n",
    "    ) label on all.rysecret = label.rysecret \n",
    "        AND all.sent_date = label.click_date\n",
    "LEFT JOIN (\n",
    "        SELECT *\n",
    "        FROM bigdata_insurance.{n_host}\n",
    "        WHERE update_date >= date_format(date_add(current_date(), -{n_dpi_days}), 'yyyyMMdd')\n",
    "        AND update_date < date_format(date_add(current_date(), -0), 'yyyyMMdd')\n",
    "        ) n_host on all.rysecret = n_host.rysecret AND all.sent_date = n_host.update_date\n",
    "LEFT JOIN (\n",
    "        SELECT \n",
    "            rysecret, update_date, sent_30, sent_90, sent_180, datediff(update_dt, sent_date) days_since_sent_date,\n",
    "            click_30, click_90, click_180, datediff(update_dt, click_date) days_since_click_date\n",
    "        FROM (\n",
    "            SELECT *, from_unixtime(unix_timestamp(cast(update_date as string), 'yyyyMMdd'), 'yyyy-MM-dd') update_dt\n",
    "            FROM bigdata_insurance.{n_sent}\n",
    "            ) sent    \n",
    "        WHERE update_date >= date_format(date_add(current_date(), -{n_dpi_days}), 'yyyyMMdd')\n",
    "            AND update_date < date_format(date_add(current_date(), -0), 'yyyyMMdd')\n",
    "        ) n_sent on all.rysecret = n_sent.rysecret AND all.sent_date = n_sent.update_date\n",
    "LEFT JOIN (\n",
    "        SELECT rysecret, age, gender, price, maker\n",
    "        FROM bigdata_insurance.e_static_feature_table\n",
    "        ) st on all.rysecret = st.rysecret\n",
    "LEFT JOIN (\n",
    "        SELECT rysecret, brand\n",
    "        FROM bigdata_insurance.e_brand_table\n",
    "        ) bt on all.rysecret = bt.rysecret\n",
    "LEFT JOIN (\n",
    "        SELECT rysecret, first(cast(rank as int)) myl_rank\n",
    "        FROM (\n",
    "            SELECT uid rysecret, rank, p_date, max(p_date) over (partition by uid) max_date\n",
    "            FROM sample.e_mayilian) sample\n",
    "        WHERE p_date = max_date\n",
    "        GROUP BY rysecret\n",
    "        ) myl on all.rysecret = myl.rysecret\n",
    "LEFT JOIN (\n",
    "        SELECT uid rysecret, first(age) new_age\n",
    "        FROM model_dig.e_user_age_col\n",
    "        WHERE age is not null\n",
    "        GROUP BY rysecret\n",
    "        ) age on all.rysecret = age.rysecret\n",
    "JOIN (\n",
    "        SELECT uid rysecret, citycode city_code\n",
    "        FROM dw_resources.mapping_uid_property\n",
    "        ) city on all.rysecret = city.rysecret\n",
    "JOIN (\n",
    "        SELECT city_id city_code, province_id province_code, city_level_id city_level \n",
    "        FROM bigdata_insurance.e_citycode_rank_dict\n",
    "        ) rank on city.city_code = rank.city_code\n",
    "\"\"\"\n",
    ").cache()"
   ]
  },
  {
   "cell_type": "code",
   "execution_count": null,
   "metadata": {},
   "outputs": [],
   "source": [
    "hosts = str(tuple(df_message.host.loc[lambda x: x != \"null_value\"].tolist()))\n",
    "dpi_data = spark.sql(\n",
    "    f\"\"\"\n",
    "SELECT \n",
    "    all.rysecret, all.sent_date, n_visited.host,\n",
    "    n_10, n_20, n_30, n_avg_30, n_cv_30,\n",
    "    fre_10, fre_20, fre_30, fre_avg_30, fre_cv_30\n",
    "FROM (\n",
    "    SELECT rysecret, from_unixtime(submit_time, 'yyyyMMdd') sent_date\n",
    "    FROM (\n",
    "        SELECT rysecret, send_status, submit_time, product, dt \n",
    "        FROM bt_insurance2.rp_sms_{operator}\n",
    "        UNION ALL\n",
    "        SELECT rysecret, send_status, submit_time, product, dt \n",
    "        FROM jzq_insurance.rp_sms_{operator}\n",
    "          ) sent\n",
    "    WHERE send_status = 1\n",
    "        AND product in {product_name}\n",
    "        AND dt >= date_add(current_date(), -{n_dpi_days})\n",
    "        AND dt < date_add(current_date(), -0)\n",
    "    GROUP BY rysecret, from_unixtime(submit_time, 'yyyyMMdd')\n",
    "    ) all\n",
    "JOIN (\n",
    "    SELECT *\n",
    "    FROM bigdata_insurance.{n_visited}\n",
    "    WHERE update_date >= date_format(date_add(current_date(), -{n_dpi_days}), 'yyyyMMdd')\n",
    "        AND update_date < date_format(date_add(current_date(), -0), 'yyyyMMdd') \n",
    "        AND host IN {hosts}\n",
    "    ) n_visited ON all.rysecret = n_visited.rysecret \n",
    "                    AND all.sent_date = n_visited.update_date\n",
    "\"\"\"\n",
    ").cache()"
   ]
  },
  {
   "cell_type": "code",
   "execution_count": null,
   "metadata": {
    "scrolled": false
   },
   "outputs": [],
   "source": [
    "products_click = str(\n",
    "    tuple(df_message.products_click.loc[lambda x: x != \"null_value\"].tolist())\n",
    ")\n",
    "click_product_data = spark.sql(\n",
    "    f\"\"\"\n",
    "SELECT \n",
    "    all.rysecret, all.sent_date, n_sent_bt.product,\n",
    "    click_30, click_90, click_180, click_360, fre_click_30, fre_click_90, fre_click_180, fre_click_360, days_since_click_date,\n",
    "    e_ip_30, e_ip_90, e_ip_180, e_ip_360, fre_e_ip_30, fre_e_ip_90, fre_e_ip_180, fre_e_ip_360, days_since_e_ip_date\n",
    "FROM (\n",
    "    SELECT rysecret, from_unixtime(submit_time, 'yyyyMMdd') sent_date\n",
    "    FROM (\n",
    "            SELECT rysecret, send_status, submit_time, product, dt from bt_insurance2.rp_sms_{operator}\n",
    "            union all\n",
    "            select rysecret, send_status, submit_time, product, dt from jzq_insurance.rp_sms_{operator}\n",
    "          ) sent\n",
    "    WHERE send_status = 1\n",
    "        AND product in {product_name}\n",
    "        AND dt >= date_add(current_date(), -{n_dpi_days})\n",
    "        AND dt < date_add(current_date(), -0) \n",
    "    GROUP BY rysecret, from_unixtime(submit_time, 'yyyyMMdd')\n",
    "    ) all\n",
    "JOIN (\n",
    "    SELECT *\n",
    "    FROM bigdata_insurance.{n_sent_bt}\n",
    "    WHERE update_date >= date_format(date_add(current_date(), -{n_dpi_days}), 'yyyyMMdd')\n",
    "        AND update_date < date_format(date_add(current_date(), -0), 'yyyyMMdd')\n",
    "        AND product IN {products_click} \n",
    "    ) n_sent_bt ON all.rysecret = n_sent_bt.rysecret AND all.sent_date = n_sent_bt.update_date\n",
    "\"\"\"\n",
    ").cache()"
   ]
  },
  {
   "cell_type": "code",
   "execution_count": null,
   "metadata": {
    "scrolled": false
   },
   "outputs": [],
   "source": [
    "product_sent = str(\n",
    "    tuple(df_message.products_send.loc[lambda x: x != \"null_value\"].tolist())\n",
    ")\n",
    "sent_product_data = spark.sql(\n",
    "    f\"\"\"\n",
    "SELECT \n",
    "    all.rysecret, all.sent_date, n_sent_bt.product,\n",
    "    sent_30, sent_90, sent_180, sent_360, days_since_sent_date,\n",
    "    call_30, call_90, call_180, call_360, days_since_call_date,\n",
    "    pick_30, pick_90, pick_180, pick_360, days_since_pick_date\n",
    "FROM (\n",
    "    SELECT rysecret, from_unixtime(submit_time, 'yyyyMMdd') sent_date\n",
    "    FROM (\n",
    "        SELECT rysecret, send_status, submit_time, product, dt \n",
    "        FROM bt_insurance2.rp_sms_{operator}\n",
    "        UNION ALL\n",
    "        SELECT rysecret, send_status, submit_time, product, dt \n",
    "        FROM jzq_insurance.rp_sms_{operator}\n",
    "        ) sent \n",
    "    WHERE send_status = 1\n",
    "        AND product in {product_name}\n",
    "        AND dt >= date_add(current_date(), -{n_dpi_days})\n",
    "        AND dt < date_add(current_date(), -0)\n",
    "    GROUP BY rysecret, from_unixtime(submit_time, 'yyyyMMdd')\n",
    "    ) all\n",
    "JOIN (\n",
    "    SELECT *\n",
    "    FROM bigdata_insurance.{n_sent_bt}\n",
    "    WHERE update_date >= date_format(date_add(current_date(), -{n_dpi_days}), 'yyyyMMdd')\n",
    "        AND update_date < date_format(date_add(current_date(), -0), 'yyyyMMdd') \n",
    "        AND product IN {product_sent}\n",
    "    ) n_sent_bt ON all.rysecret = n_sent_bt.rysecret \n",
    "                    AND all.sent_date = n_sent_bt.update_date\n",
    "\"\"\"\n",
    ").cache()"
   ]
  },
  {
   "cell_type": "code",
   "execution_count": null,
   "metadata": {},
   "outputs": [],
   "source": [
    "print(\"Number of phone numbers in label_data:\", label_data.count())\n",
    "print(\n",
    "    \"Number of phone numbers in dpi_data:\",\n",
    "    dpi_data.select(\"rysecret\", \"sent_date\").distinct().count(),\n",
    ")\n",
    "print(\n",
    "    \"Number of phone numbers in click_product_data:\",\n",
    "    click_product_data.select(\"rysecret\", \"sent_date\").distinct().count(),\n",
    ")\n",
    "print(\n",
    "    \"Number of phone numbers in sent_product_data:\",\n",
    "    sent_product_data.select(\"rysecret\", \"sent_date\").distinct().count(),\n",
    ")\n",
    "print(\"Number of positive labels:\", label_data.filter(F.col(\"label\") == \"1\").count())"
   ]
  },
  {
   "cell_type": "code",
   "execution_count": null,
   "metadata": {},
   "outputs": [],
   "source": [
    "def get_dummy_data(df, df_message, df_col, df_message_col, label=False):\n",
    "    \"\"\"\n",
    "    df_col, df_message_col为list\n",
    "    \"\"\"\n",
    "    rename_dic = dict(zip(df_message_col, df_col))\n",
    "    fillna_dic = {\"rysecret\": \"A\", \"sent_date\": \"22220202\"}\n",
    "    if label:\n",
    "        fillna_dic[\"label\"] = 0\n",
    "    dummy_data = (\n",
    "        pd.concat(\n",
    "            [\n",
    "                pd.DataFrame(columns=df.columns),\n",
    "                (\n",
    "                    df_message[df_message_col]\n",
    "                    .replace(\"null_value\", np.nan)\n",
    "                    .dropna(how=\"all\")\n",
    "                    .fillna(method=\"ffill\")\n",
    "                    .rename(columns=rename_dic)\n",
    "                ),\n",
    "            ]\n",
    "        )\n",
    "        .fillna(fillna_dic)\n",
    "        .fillna(-999)\n",
    "    )\n",
    "    return dummy_data"
   ]
  },
  {
   "cell_type": "code",
   "execution_count": null,
   "metadata": {
    "scrolled": false
   },
   "outputs": [],
   "source": [
    "basic_cols = [\n",
    "    \"age\",\n",
    "    \"gender\",\n",
    "    \"maker\",\n",
    "    \"brand\",\n",
    "    \"new_age\",\n",
    "    \"city_code\",\n",
    "    \"province_code\",\n",
    "]\n",
    "dummy_label_data = get_dummy_data(\n",
    "    label_data, df_message, basic_cols, basic_cols, label=True\n",
    ")\n",
    "for col in basic_cols:\n",
    "    try:\n",
    "        dummy_label_data[col] = dummy_label_data[col].astype(float).astype(int)\n",
    "    except:\n",
    "        pass\n",
    "fake_label_data = spark.createDataFrame(dummy_label_data)"
   ]
  },
  {
   "cell_type": "code",
   "execution_count": null,
   "metadata": {},
   "outputs": [],
   "source": [
    "dummy_dpi_data = get_dummy_data(dpi_data, df_message, [\"host\"], [\"host\"])\n",
    "fake_dpi_data = spark.createDataFrame(dummy_dpi_data)\n",
    "\n",
    "fake_dpi_data = (\n",
    "    fake_dpi_data.groupBy([\"rysecret\", \"sent_date\"])\n",
    "    .pivot(\"host\")\n",
    "    .agg(\n",
    "        *(\n",
    "            F.first(i).alias(i)\n",
    "            for i in dpi_data.columns\n",
    "            if i not in [\"rysecret\", \"sent_date\", \"host\"]\n",
    "        )\n",
    "    )\n",
    ")"
   ]
  },
  {
   "cell_type": "code",
   "execution_count": null,
   "metadata": {},
   "outputs": [],
   "source": [
    "dummy_click_product_data = get_dummy_data(\n",
    "    click_product_data, df_message, [\"product\"], [\"products_click\"]\n",
    ")\n",
    "fake_click_product_data = spark.createDataFrame(dummy_click_product_data)\n",
    "\n",
    "fake_click_product_data = (\n",
    "    fake_click_product_data.groupBy([\"rysecret\", \"sent_date\"])\n",
    "    .pivot(\"product\")\n",
    "    .agg(\n",
    "        *(\n",
    "            F.first(i).alias(i)\n",
    "            for i in click_product_data.columns\n",
    "            if i not in [\"rysecret\", \"sent_date\", \"product\"]\n",
    "        )\n",
    "    )\n",
    ")"
   ]
  },
  {
   "cell_type": "code",
   "execution_count": null,
   "metadata": {
    "scrolled": false
   },
   "outputs": [],
   "source": [
    "dummy_sent_product_data = get_dummy_data(\n",
    "    sent_product_data, df_message, [\"product\"], [\"products_send\"]\n",
    ")\n",
    "fake_sent_product_data = spark.createDataFrame(dummy_sent_product_data)\n",
    "\n",
    "fake_sent_product_data = (\n",
    "    fake_sent_product_data.groupBy([\"rysecret\", \"sent_date\"])\n",
    "    .pivot(\"product\")\n",
    "    .agg(\n",
    "        *(\n",
    "            F.first(i).alias(i)\n",
    "            for i in sent_product_data.columns\n",
    "            if i not in [\"rysecret\", \"sent_date\", \"product\"]\n",
    "        )\n",
    "    )\n",
    ")"
   ]
  },
  {
   "cell_type": "code",
   "execution_count": null,
   "metadata": {
    "scrolled": false
   },
   "outputs": [],
   "source": [
    "fake_data = reduce(\n",
    "    lambda df1, df2: df1.join(df2, on=[\"rysecret\", \"sent_date\"], how=\"left\"),\n",
    "    [fake_label_data, fake_dpi_data, fake_click_product_data, fake_sent_product_data],\n",
    ")"
   ]
  },
  {
   "cell_type": "code",
   "execution_count": null,
   "metadata": {},
   "outputs": [],
   "source": [
    "to_pd_sample(fake_data)"
   ]
  },
  {
   "cell_type": "code",
   "execution_count": null,
   "metadata": {
    "scrolled": false
   },
   "outputs": [],
   "source": [
    "len(fake_data.columns)"
   ]
  },
  {
   "cell_type": "code",
   "execution_count": null,
   "metadata": {},
   "outputs": [],
   "source": [
    "string_indexers = []\n",
    "string_indexer_cols = ['age', 'gender', 'maker',\n",
    "                       'brand', 'new_age', 'city_code', 'province_code']\n",
    "for col in string_indexer_cols:\n",
    "    string_indexers.append(StringIndexer(\n",
    "        inputCol=col, outputCol=col + '_index', stringOrderType='alphabetAsc'))"
   ]
  },
  {
   "cell_type": "code",
   "execution_count": null,
   "metadata": {},
   "outputs": [],
   "source": [
    "one_hot_encoder = OneHotEncoderEstimator(\n",
    "    inputCols=[i + \"_index\" for i in string_indexer_cols],\n",
    "    outputCols=[i + \"_encoded\" for i in string_indexer_cols],\n",
    ")"
   ]
  },
  {
   "cell_type": "code",
   "execution_count": null,
   "metadata": {},
   "outputs": [],
   "source": [
    "feature_cols = [\n",
    "    i if i not in string_indexer_cols else i + \"_encoded\" for i in fake_data.columns[3:]\n",
    "]"
   ]
  },
  {
   "cell_type": "code",
   "execution_count": null,
   "metadata": {},
   "outputs": [],
   "source": [
    "vector_assemble = VectorAssembler(inputCols=feature_cols, outputCol=\"feature\")\n",
    "feature_pipeline = Pipeline(stages=string_indexers + [one_hot_encoder, vector_assemble])"
   ]
  },
  {
   "cell_type": "code",
   "execution_count": null,
   "metadata": {},
   "outputs": [],
   "source": [
    "pipeline_model = feature_pipeline.fit(fake_data)"
   ]
  },
  {
   "cell_type": "code",
   "execution_count": null,
   "metadata": {},
   "outputs": [],
   "source": [
    "pipeline_model.write().overwrite().save(\n",
    "    f\"/user/zhuyan/model/{model_name}/pipeline_model\"\n",
    ")"
   ]
  },
  {
   "cell_type": "code",
   "execution_count": null,
   "metadata": {},
   "outputs": [],
   "source": [
    "label_data = (\n",
    "    label_data.fillna(\n",
    "        {\n",
    "            \"maker\": \"others\",\n",
    "            \"brand\": \"others\",\n",
    "            \"price\": -999,\n",
    "            \"age\": 0,\n",
    "            \"gender\": 2,\n",
    "            \"new_age\": \"null\",\n",
    "            \"myl_rank\": -999,\n",
    "        }\n",
    "    )\n",
    "    .fillna(\n",
    "        -999,\n",
    "        subset=[\n",
    "            ele\n",
    "            for ele in label_data.columns\n",
    "            if (\"_cv_\" in ele) or (\"days_since_\" in ele)\n",
    "        ],\n",
    "    )\n",
    "    .fillna(0)\n",
    ")"
   ]
  },
  {
   "cell_type": "code",
   "execution_count": null,
   "metadata": {},
   "outputs": [],
   "source": [
    "to_pd_sample(label_data) "
   ]
  },
  {
   "cell_type": "code",
   "execution_count": null,
   "metadata": {
    "scrolled": false
   },
   "outputs": [],
   "source": [
    "dpi_data = (\n",
    "    dpi_data.groupBy([\"rysecret\", \"sent_date\"])\n",
    "    .pivot(\"host\")\n",
    "    .agg(\n",
    "        *(\n",
    "            F.first(i).alias(i)\n",
    "            for i in dpi_data.columns\n",
    "            if i not in [\"rysecret\", \"sent_date\", \"host\"]\n",
    "        )\n",
    "    )\n",
    ")"
   ]
  },
  {
   "cell_type": "code",
   "execution_count": null,
   "metadata": {},
   "outputs": [],
   "source": [
    "click_product_data = (\n",
    "    click_product_data.groupBy([\"rysecret\", \"sent_date\"])\n",
    "    .pivot(\"product\")\n",
    "    .agg(\n",
    "        *(\n",
    "            F.first(i).alias(i)\n",
    "            for i in click_product_data.columns\n",
    "            if i not in [\"rysecret\", \"sent_date\", \"product\"]\n",
    "        )\n",
    "    )\n",
    ")"
   ]
  },
  {
   "cell_type": "code",
   "execution_count": null,
   "metadata": {},
   "outputs": [],
   "source": [
    "sent_product_data = (\n",
    "    sent_product_data.groupBy([\"rysecret\", \"sent_date\"])\n",
    "    .pivot(\"product\")\n",
    "    .agg(\n",
    "        *(\n",
    "            F.first(i).alias(i)\n",
    "            for i in sent_product_data.columns\n",
    "            if i not in [\"rysecret\", \"sent_date\", \"product\"]\n",
    "        )\n",
    "    )\n",
    ")"
   ]
  },
  {
   "cell_type": "code",
   "execution_count": null,
   "metadata": {},
   "outputs": [],
   "source": [
    "all_data = (\n",
    "    reduce(\n",
    "        lambda df1, df2: df1.join(df2, on=[\"rysecret\", \"sent_date\"], how=\"left\"),\n",
    "        [\n",
    "            label_data,\n",
    "            dpi_data.fillna(0),\n",
    "            click_product_data.fillna(0),\n",
    "            sent_product_data.fillna(0),\n",
    "        ],\n",
    "    )\n",
    "    .select(fake_data.columns)\n",
    "    .fillna(-999)\n",
    "    .dropDuplicates(subset=[\"rysecret\", \"sent_date\"])\n",
    ")"
   ]
  },
  {
   "cell_type": "code",
   "execution_count": null,
   "metadata": {},
   "outputs": [],
   "source": [
    "# for i in all_data.dtypes:\n",
    "#     k = dict(fake_data.dtypes).get(i[0])\n",
    "#     if i[1] != k and \"avg\" not in i[0] and \"cv\" not in i[0] and i[1] != \"int\":\n",
    "#         print(i[0], i[1], k)\n",
    "#         all_data = all_data.withColumn(i[0], F.col(i[0]).cast(k))"
   ]
  },
  {
   "cell_type": "code",
   "execution_count": null,
   "metadata": {},
   "outputs": [],
   "source": [
    "all_data = fake_data.union(all_data).filter(F.col(\"rysecret\") != \"A\")"
   ]
  },
  {
   "cell_type": "code",
   "execution_count": null,
   "metadata": {
    "scrolled": false
   },
   "outputs": [],
   "source": [
    "piped_data = pipeline_model.transform(all_data).select(\"rysecret\", \"feature\", \"label\")"
   ]
  },
  {
   "cell_type": "code",
   "execution_count": null,
   "metadata": {},
   "outputs": [],
   "source": [
    "piped_data.write.mode(\"overwrite\").format(\"hive\").saveAsTable(\n",
    "    f\"bigdata_insurance.e_zhuyan_piped_data_{model_name}\"\n",
    ")"
   ]
  },
  {
   "cell_type": "code",
   "execution_count": null,
   "metadata": {},
   "outputs": [],
   "source": []
  }
 ],
 "metadata": {
  "kernelspec": {
   "display_name": "Python 3",
   "language": "python",
   "name": "python3"
  },
  "language_info": {
   "codemirror_mode": {
    "name": "ipython",
    "version": 3
   },
   "file_extension": ".py",
   "mimetype": "text/x-python",
   "name": "python",
   "nbconvert_exporter": "python",
   "pygments_lexer": "ipython3",
   "version": "3.8.8"
  },
  "toc": {
   "base_numbering": 1,
   "nav_menu": {},
   "number_sections": true,
   "sideBar": true,
   "skip_h1_title": false,
   "title_cell": "Table of Contents",
   "title_sidebar": "Contents",
   "toc_cell": false,
   "toc_position": {},
   "toc_section_display": true,
   "toc_window_display": false
  },
  "varInspector": {
   "cols": {
    "lenName": 16,
    "lenType": 16,
    "lenVar": 40
   },
   "kernels_config": {
    "python": {
     "delete_cmd_postfix": "",
     "delete_cmd_prefix": "del ",
     "library": "var_list.py",
     "varRefreshCmd": "print(var_dic_list())"
    },
    "r": {
     "delete_cmd_postfix": ") ",
     "delete_cmd_prefix": "rm(",
     "library": "var_list.r",
     "varRefreshCmd": "cat(var_dic_list()) "
    }
   },
   "types_to_exclude": [
    "module",
    "function",
    "builtin_function_or_method",
    "instance",
    "_Feature"
   ],
   "window_display": false
  }
 },
 "nbformat": 4,
 "nbformat_minor": 2
}
